{
 "cells": [
  {
   "cell_type": "code",
   "execution_count": null,
   "metadata": {},
   "outputs": [],
   "source": [
    "import requests\n",
    "from bs4 import BeautifulSoup\n",
    "import pandas as pd\n",
    "import time\n",
    "import matplotlib.pyplot as plt\n",
    "import seaborn as sns"
   ]
  },
  {
   "cell_type": "code",
   "execution_count": null,
   "metadata": {},
   "outputs": [],
   "source": [
    "years = list(range(2023, 2017, -1))"
   ]
  },
  {
   "cell_type": "code",
   "execution_count": null,
   "metadata": {},
   "outputs": [],
   "source": [
    "session = requests.Session()\n",
    "\n",
    "# Replace with your login credentials and the login URL\n",
    "payload = {\n",
    "    'username': '<uname>',\n",
    "    'password': '<pwd>'\n",
    "}\n",
    "login_page_url = 'https://stathead.com/users/login.cgi?token=1&__hstc=218152582.ffc1803babda4560a6e1c515a5470632.1706293742957.1708048543953.1708712387309.10&__hssc=218152582.6.1708712387309&__hsfp=3370414631&_gl=1*1s7yczf*_ga*MTYyMTU4MDIxMS4xNzA2MjkzNzM4*_ga_80FRT7VJ60*MTcwODcxMjM4Mi4xNS4xLjE3MDg3MTM5NTMuMC4wLjA.&redirect_uri=https%3A//fbref.com/en/comps/9/Premier-League-Stats'\n",
    "session.post(login_page_url, data = payload)\n",
    "all_matches = []\n",
    "standings_url = 'https://fbref.com/en/comps/9/Premier-League-Stats'\n",
    "for year in years:\n",
    "    data = session.get(standings_url)\n",
    "    soup = BeautifulSoup(data.text)\n",
    "    standings_table = soup.select('table.stats_table')[0]\n",
    "    links = standings_table.find_all('a')\n",
    "    links = [l.get(\"href\") for l in links]\n",
    "    links = [l for l in links if '/squads/' in l]\n",
    "    # print(links)\n",
    "    team_urls = [f\"https://fbref.com{l}\" for l in links]\n",
    "    \n",
    "    previous_season = soup.select(\"a.prev\")[0].get(\"href\")\n",
    "    standings_url = f\"https://fbref.com{previous_season}\"\n",
    "    print(year)\n",
    "    for team_url in team_urls:\n",
    "        team_name = team_url.split(\"/\")[-1].replace(\"-Stats\", \"\").replace(\"-\", \" \")\n",
    "        data = session.get(team_url)\n",
    "        # # print(0.)\n",
    "        # print(data)\n",
    "        matches = pd.read_html(data.text, match=\"Scores & Fixtures\")[0]\n",
    "        soup = BeautifulSoup(data.text)\n",
    "        links_1 = soup.find_all('a')\n",
    "        # print(1.)\n",
    "        # print(links_1)\n",
    "        links_1 = [l_1.get(\"href\") for l_1 in links_1]\n",
    "        # print(2.)\n",
    "        # print(links_1)\n",
    "        links_1 = [l_1 for l_1 in links_1 if l_1 and 'all_comps/shooting/' in l_1]\n",
    "        # print(3.)\n",
    "        # print(links_1)\n",
    "        data = session.get(f\"https://fbref.com{links_1[0]}\")\n",
    "        # print(4.)\n",
    "        # print(data)\n",
    "        shooting = pd.read_html(data.text, match=\"Shooting\")[0]\n",
    "        \n",
    "        shooting.columns = shooting.columns.droplevel()\n",
    "        # print(5.)\n",
    "        # print(shooting)\n",
    "        try:\n",
    "            team_data = matches.merge(shooting[[\"Date\", \"Sh\", \"SoT\", \"Dist\", \"FK\", \"PK\", \"PKatt\"]], on=\"Date\")\n",
    "        except ValueError:\n",
    "            continue\n",
    "        team_data = team_data[team_data[\"Comp\"] == \"Premier League\"] \n",
    "        \n",
    "        team_data[\"Season\"] = year\n",
    "        team_data[\"Team\"] = team_name\n",
    "        all_matches.append(team_data)\n",
    "        time.sleep(3)"
   ]
  },
  {
   "cell_type": "code",
   "execution_count": null,
   "metadata": {},
   "outputs": [],
   "source": [
    "match_df = pd.concat(all_matches)\n",
    "match_df.to_csv(\"matches.csv\")"
   ]
  }
 ],
 "metadata": {
  "language_info": {
   "name": "python"
  }
 },
 "nbformat": 4,
 "nbformat_minor": 2
}
